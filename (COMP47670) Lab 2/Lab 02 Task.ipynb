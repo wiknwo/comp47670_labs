{
 "cells": [
  {
   "cell_type": "markdown",
   "metadata": {},
   "source": [
    "### Lab 2 Tasks"
   ]
  },
  {
   "cell_type": "markdown",
   "metadata": {
    "collapsed": true
   },
   "source": [
    "The code below creates two lists, one list with English words, and a corresponding list with French words."
   ]
  },
  {
   "cell_type": "code",
   "execution_count": 1,
   "metadata": {},
   "outputs": [],
   "source": [
    "english = [\"hello\", \"cat\", \"dog\", \"yes\", \"tomorrow\", \"yesterday\", \n",
    "          \"difficult\", \"easy\", \"bad\", \"no\", \"tuesday\", \"january\"]"
   ]
  },
  {
   "cell_type": "code",
   "execution_count": 2,
   "metadata": {},
   "outputs": [],
   "source": [
    "french = [\"bonjour\", \"chat\", \"chien\", \"oui\", \"demain\", \"hier\", \n",
    "          \"difficile\", \"facile\", \"mauvais\", \"non\", \"mardi\", \"janvier\"]"
   ]
  },
  {
   "cell_type": "markdown",
   "metadata": {},
   "source": [
    "Step 1: Confirm that both lists contain an equal number of values."
   ]
  },
  {
   "cell_type": "code",
   "execution_count": 3,
   "metadata": {},
   "outputs": [
    {
     "name": "stdout",
     "output_type": "stream",
     "text": [
      "True\n"
     ]
    }
   ],
   "source": [
    "print(len(english) == len(french))"
   ]
  },
  {
   "cell_type": "markdown",
   "metadata": {},
   "source": [
    "Step 2: Create a Python dictionary, which maps English words to French words, using the lists above. "
   ]
  },
  {
   "cell_type": "code",
   "execution_count": 5,
   "metadata": {},
   "outputs": [
    {
     "name": "stdout",
     "output_type": "stream",
     "text": [
      "{'hello': 'bonjour', 'cat': 'chat', 'dog': 'chien', 'yes': 'oui', 'tomorrow': 'demain', 'yesterday': 'hier', 'difficult': 'difficile', 'easy': 'facile', 'bad': 'mauvais', 'no': 'non', 'tuesday': 'mardi', 'january': 'janvier'}\n"
     ]
    }
   ],
   "source": [
    "enfrmap = {eng:french for eng, french in zip(english, french)} # Using a dictionary comprehension\n",
    "print(enfrmap)"
   ]
  },
  {
   "cell_type": "markdown",
   "metadata": {},
   "source": [
    "Step 3: Remove all key-value pairs from the dictionary above, where the keys (i.e. the English words) contain less than 4 characters."
   ]
  },
  {
   "cell_type": "code",
   "execution_count": 6,
   "metadata": {},
   "outputs": [
    {
     "name": "stdout",
     "output_type": "stream",
     "text": [
      "{'hello': 'bonjour', 'tomorrow': 'demain', 'yesterday': 'hier', 'difficult': 'difficile', 'easy': 'facile', 'tuesday': 'mardi', 'january': 'janvier'}\n"
     ]
    }
   ],
   "source": [
    "for key, value in list(enfrmap.items()):\n",
    "    if len(key) < 4:\n",
    "        del enfrmap[key]\n",
    "print(enfrmap)"
   ]
  },
  {
   "cell_type": "markdown",
   "metadata": {},
   "source": [
    "Step 4: Write a function *translate()* which accepts 3 parameters: a translation dictionary, a word to translate, and a default word. If the word is in the dictionary, the function should return the translated word. Otherwise, it should return the default word."
   ]
  },
  {
   "cell_type": "code",
   "execution_count": 8,
   "metadata": {},
   "outputs": [
    {
     "name": "stdout",
     "output_type": "stream",
     "text": [
      "bonjour\n"
     ]
    }
   ],
   "source": [
    "def translate(translationdict, word_to_translate, default_word):\n",
    "    \"\"\"Function to return translated word if it's in the dictionary and default word if it's not\"\"\"\n",
    "    return translationdict[word_to_translate] if word_to_translate in translationdict else default_word\n",
    "\n",
    "print(translate(enfrmap, 'hello', 'default'))"
   ]
  }
 ],
 "metadata": {
  "kernelspec": {
   "display_name": "Python 3 (ipykernel)",
   "language": "python",
   "name": "python3"
  },
  "language_info": {
   "codemirror_mode": {
    "name": "ipython",
    "version": 3
   },
   "file_extension": ".py",
   "mimetype": "text/x-python",
   "name": "python",
   "nbconvert_exporter": "python",
   "pygments_lexer": "ipython3",
   "version": "3.9.12"
  }
 },
 "nbformat": 4,
 "nbformat_minor": 1
}
