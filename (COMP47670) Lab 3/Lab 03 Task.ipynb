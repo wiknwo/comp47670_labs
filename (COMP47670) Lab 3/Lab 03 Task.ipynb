{
 "cells": [
  {
   "cell_type": "markdown",
   "metadata": {},
   "source": [
    "## Lab 3 Tasks"
   ]
  },
  {
   "cell_type": "markdown",
   "metadata": {},
   "source": [
    "Task 1. \n",
    "\n",
    "Download the comma-separated file *scores.csv* from the module Moodle page and save it to the same directory as your notebooks. \n",
    "\n",
    "Write a function *display_numbers()* which takes one parameter - a file path. The function should read floating point numbers from each line in the specified file, and compute the total for the values on each line. Print each total to 2 decimal places. Use exception handling to deal with the potential case where the input file does not exist.\n",
    "\n",
    "Apply the function *display_numbers()* to *scores.csv*."
   ]
  },
  {
   "cell_type": "code",
   "execution_count": 5,
   "metadata": {},
   "outputs": [],
   "source": [
    "def display_numbers(filepath):\n",
    "    \"\"\"Function that reads floating point numbers from each line in csv file and computes total for each line\"\"\"\n",
    "    try: \n",
    "        with open(filepath) as f:\n",
    "            for line in f:\n",
    "                tokens = line.split(',')\n",
    "                numbers = [float(token) for token in tokens]\n",
    "                print(\"Total: {:.2f}\".format(sum(numbers)))\n",
    "        f.close()\n",
    "    except FileNotFoundError as e:\n",
    "        print(\"File {} does not exist\".format(e.filename))"
   ]
  },
  {
   "cell_type": "code",
   "execution_count": 6,
   "metadata": {},
   "outputs": [
    {
     "name": "stdout",
     "output_type": "stream",
     "text": [
      "Total: 2.84\n",
      "Total: 3.57\n",
      "Total: 1.57\n",
      "Total: 2.41\n",
      "Total: 2.47\n",
      "Total: 3.02\n"
     ]
    }
   ],
   "source": [
    "display_numbers('scores.csv')"
   ]
  },
  {
   "cell_type": "code",
   "execution_count": 7,
   "metadata": {},
   "outputs": [
    {
     "name": "stdout",
     "output_type": "stream",
     "text": [
      "File score.csv does not exist\n"
     ]
    }
   ],
   "source": [
    "display_numbers('score.csv')"
   ]
  },
  {
   "cell_type": "markdown",
   "metadata": {
    "collapsed": true
   },
   "source": [
    "Task 2.\n",
    "\n",
    "Write a function *reverse_numbers()* which takes two parameters - an input file path and an output file path. The function should read floating point numbers from each line in the specified input file. The order of the values from in line should then be reversed, and these lines should be written to the specifed output file. Include exception handling code.\n",
    "\n",
    "Apply the function *reverse_numbers()* to *scores.csv* to create a new file *reversed.csv*."
   ]
  },
  {
   "cell_type": "code",
   "execution_count": 22,
   "metadata": {},
   "outputs": [],
   "source": [
    "def reverse_numbers(filepath):\n",
    "    \"\"\"Function to read floating point numbers from each line in input file and write the numbers in reversed order line by line in an output file\"\"\"\n",
    "    try:\n",
    "        with open(filepath) as f, open('reversed.csv', 'w') as o:\n",
    "            for line in f:\n",
    "                tokens = line.strip().split(',')\n",
    "                tokens = tokens[::-1]\n",
    "                o.write(','.join(tokens) + '\\n')\n",
    "            f.close()\n",
    "            o.close()\n",
    "    except FileNotFoundError as e:\n",
    "        print(\"File {} does not exist\".format(e.filename))\n",
    "    except IOError as e:\n",
    "        print(\"File could not be written to: {}\".format(str(e)))"
   ]
  },
  {
   "cell_type": "code",
   "execution_count": 23,
   "metadata": {},
   "outputs": [],
   "source": [
    "reverse_numbers('scores.csv')"
   ]
  },
  {
   "cell_type": "code",
   "execution_count": 24,
   "metadata": {},
   "outputs": [
    {
     "name": "stdout",
     "output_type": "stream",
     "text": [
      "File score.csv does not exist\n"
     ]
    }
   ],
   "source": [
    "reverse_numbers('score.csv')"
   ]
  }
 ],
 "metadata": {
  "kernelspec": {
   "display_name": "Python 3 (ipykernel)",
   "language": "python",
   "name": "python3"
  },
  "language_info": {
   "codemirror_mode": {
    "name": "ipython",
    "version": 3
   },
   "file_extension": ".py",
   "mimetype": "text/x-python",
   "name": "python",
   "nbconvert_exporter": "python",
   "pygments_lexer": "ipython3",
   "version": "3.9.12"
  }
 },
 "nbformat": 4,
 "nbformat_minor": 1
}
