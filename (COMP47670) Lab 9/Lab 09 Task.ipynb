{
 "cells": [
  {
   "cell_type": "markdown",
   "metadata": {},
   "source": [
    "## Lab 9 Tasks - Solutions"
   ]
  },
  {
   "cell_type": "markdown",
   "metadata": {},
   "source": [
    "Step 1. Download the *Diabetes* dataset from the link below, and load the data into a Pandas Data Frame.\n",
    "\n",
    "http://mlg.ucd.ie/modules/COMP41680/diabetes.csv\n",
    "\n",
    "The goal of the classification tasks for this dataset is to predict whether a patient will test 'positve' or 'negative' for diabetes, based on 8 numeric features."
   ]
  },
  {
   "cell_type": "code",
   "execution_count": 1,
   "metadata": {},
   "outputs": [
    {
     "data": {
      "text/html": [
       "<div>\n",
       "<style scoped>\n",
       "    .dataframe tbody tr th:only-of-type {\n",
       "        vertical-align: middle;\n",
       "    }\n",
       "\n",
       "    .dataframe tbody tr th {\n",
       "        vertical-align: top;\n",
       "    }\n",
       "\n",
       "    .dataframe thead th {\n",
       "        text-align: right;\n",
       "    }\n",
       "</style>\n",
       "<table border=\"1\" class=\"dataframe\">\n",
       "  <thead>\n",
       "    <tr style=\"text-align: right;\">\n",
       "      <th></th>\n",
       "      <th>preg</th>\n",
       "      <th>plas</th>\n",
       "      <th>pres</th>\n",
       "      <th>skin</th>\n",
       "      <th>insu</th>\n",
       "      <th>mass</th>\n",
       "      <th>pedi</th>\n",
       "      <th>age</th>\n",
       "      <th>class</th>\n",
       "    </tr>\n",
       "  </thead>\n",
       "  <tbody>\n",
       "    <tr>\n",
       "      <th>0</th>\n",
       "      <td>6</td>\n",
       "      <td>148</td>\n",
       "      <td>72</td>\n",
       "      <td>35</td>\n",
       "      <td>0</td>\n",
       "      <td>33.6</td>\n",
       "      <td>0.627</td>\n",
       "      <td>50</td>\n",
       "      <td>positive</td>\n",
       "    </tr>\n",
       "    <tr>\n",
       "      <th>1</th>\n",
       "      <td>1</td>\n",
       "      <td>85</td>\n",
       "      <td>66</td>\n",
       "      <td>29</td>\n",
       "      <td>0</td>\n",
       "      <td>26.6</td>\n",
       "      <td>0.351</td>\n",
       "      <td>31</td>\n",
       "      <td>negative</td>\n",
       "    </tr>\n",
       "    <tr>\n",
       "      <th>2</th>\n",
       "      <td>8</td>\n",
       "      <td>183</td>\n",
       "      <td>64</td>\n",
       "      <td>0</td>\n",
       "      <td>0</td>\n",
       "      <td>23.3</td>\n",
       "      <td>0.672</td>\n",
       "      <td>32</td>\n",
       "      <td>positive</td>\n",
       "    </tr>\n",
       "    <tr>\n",
       "      <th>3</th>\n",
       "      <td>1</td>\n",
       "      <td>89</td>\n",
       "      <td>66</td>\n",
       "      <td>23</td>\n",
       "      <td>94</td>\n",
       "      <td>28.1</td>\n",
       "      <td>0.167</td>\n",
       "      <td>21</td>\n",
       "      <td>negative</td>\n",
       "    </tr>\n",
       "    <tr>\n",
       "      <th>4</th>\n",
       "      <td>0</td>\n",
       "      <td>137</td>\n",
       "      <td>40</td>\n",
       "      <td>35</td>\n",
       "      <td>168</td>\n",
       "      <td>43.1</td>\n",
       "      <td>2.288</td>\n",
       "      <td>33</td>\n",
       "      <td>positive</td>\n",
       "    </tr>\n",
       "  </tbody>\n",
       "</table>\n",
       "</div>"
      ],
      "text/plain": [
       "   preg  plas  pres  skin  insu  mass   pedi  age     class\n",
       "0     6   148    72    35     0  33.6  0.627   50  positive\n",
       "1     1    85    66    29     0  26.6  0.351   31  negative\n",
       "2     8   183    64     0     0  23.3  0.672   32  positive\n",
       "3     1    89    66    23    94  28.1  0.167   21  negative\n",
       "4     0   137    40    35   168  43.1  2.288   33  positive"
      ]
     },
     "execution_count": 1,
     "metadata": {},
     "output_type": "execute_result"
    }
   ],
   "source": [
    "import pandas as pd\n",
    "df = pd.read_csv('http://mlg.ucd.ie/modules/COMP41680/diabetes.csv')\n",
    "df.head()"
   ]
  },
  {
   "cell_type": "markdown",
   "metadata": {},
   "source": [
    "Step 2. Separate the numeric features from the target classs labels."
   ]
  },
  {
   "cell_type": "code",
   "execution_count": 4,
   "metadata": {},
   "outputs": [
    {
     "name": "stdout",
     "output_type": "stream",
     "text": [
      "   preg  plas  pres  skin  insu  mass   pedi  age\n",
      "0     6   148    72    35     0  33.6  0.627   50\n",
      "1     1    85    66    29     0  26.6  0.351   31\n",
      "2     8   183    64     0     0  23.3  0.672   32\n",
      "3     1    89    66    23    94  28.1  0.167   21\n",
      "4     0   137    40    35   168  43.1  2.288   33\n",
      "-----------------------------\n",
      "0    positive\n",
      "1    negative\n",
      "2    positive\n",
      "3    negative\n",
      "4    positive\n",
      "Name: class, dtype: object\n"
     ]
    }
   ],
   "source": [
    "X = df.iloc[:, 0:len(df.columns) - 1] # Retrieve all rows for columns 0 - 7\n",
    "y = df.iloc[:, len(df.columns) - 1] # Retrieve all rows for column 8\n",
    "print(X.head())\n",
    "print('-----------------------------')\n",
    "print(y.head())"
   ]
  },
  {
   "cell_type": "markdown",
   "metadata": {},
   "source": [
    "Step 3. Generate a 60/40 random training and test split of the data. Based on this split, evaluate the accuracy achieved by a KNN classifier on the *Diabetes* dataset for: K=1, K=3, K=5"
   ]
  },
  {
   "cell_type": "code",
   "execution_count": 5,
   "metadata": {},
   "outputs": [
    {
     "name": "stdout",
     "output_type": "stream",
     "text": [
      "1 Nearest Neighbors Accuracy: 0.652027027027027\n",
      "3 Nearest Neighbors Accuracy: 0.6722972972972973\n",
      "5 Nearest Neighbors Accuracy: 0.6858108108108109\n"
     ]
    }
   ],
   "source": [
    "from sklearn.model_selection import train_test_split\n",
    "from sklearn.neighbors import KNeighborsClassifier\n",
    "from sklearn.metrics import accuracy_score\n",
    "\n",
    "train_X, test_X, train_y, test_y = train_test_split(X, y, test_size = 0.4)\n",
    "model = None\n",
    "for k in range(1, 7, 2):\n",
    "    model = KNeighborsClassifier(n_neighbors = k)\n",
    "    model.fit(train_X, train_y)\n",
    "    predictions = model.predict(test_X)\n",
    "    print('{} Nearest Neighbors Accuracy: {}'.format(k, accuracy_score(test_y, predictions)))"
   ]
  },
  {
   "cell_type": "markdown",
   "metadata": {},
   "source": [
    "Step 4. Use 5-fold cross-validation to evaluate the accuracy achieved by a KNN classifier on the *Diabetes* dataset for: K=1, K=3, K=5"
   ]
  },
  {
   "cell_type": "code",
   "execution_count": 9,
   "metadata": {},
   "outputs": [
    {
     "name": "stdout",
     "output_type": "stream",
     "text": [
      "1 Nearest Neighbors Mean Cross Validation Accuracy Score: 0.6589354660783233\n",
      "3 Nearest Neighbors Mean Cross Validation Accuracy Score: 0.7184960470674756\n",
      "5 Nearest Neighbors Mean Cross Validation Accuracy Score: 0.7117484831770546\n"
     ]
    }
   ],
   "source": [
    "from sklearn.model_selection import cross_val_score\n",
    "\n",
    "for k in range(1, 7, 2):\n",
    "    model = KNeighborsClassifier(n_neighbors = k)\n",
    "    model.fit(train_X, train_y)\n",
    "    cross_validation_results = cross_val_score(model, X, y, cv = 5, scoring = 'accuracy')\n",
    "    print('{} Nearest Neighbors Mean Cross Validation Accuracy Score: {}'.format(k, cross_validation_results.mean()))\n",
    "        "
   ]
  },
  {
   "cell_type": "markdown",
   "metadata": {},
   "source": [
    "Step 5. Using the best performing number of nearest neighbours from Step 4, build a KNN model on the entire Diabetes dataset.\n",
    "\n",
    "Use the model to make positive or negative predictions for the new unseen input data from the link below.\n",
    "\n",
    "http://mlg.ucd.ie/modules/COMP41680/diabetes-unseen.csv"
   ]
  },
  {
   "cell_type": "code",
   "execution_count": 12,
   "metadata": {},
   "outputs": [
    {
     "name": "stdout",
     "output_type": "stream",
     "text": [
      "['negative' 'negative' 'negative' 'negative' 'negative' 'negative'\n",
      " 'positive' 'negative' 'negative' 'positive']\n"
     ]
    }
   ],
   "source": [
    "# Using the best performing number of nearest neighbours from Step 4, build a \n",
    "# KNN model on the entire Diabetes dataset.\n",
    "model = KNeighborsClassifier(n_neighbors = 3)\n",
    "model.fit(X, y)\n",
    "# Use the model to make positive or negative predictions for the new unseen \n",
    "# input data from the link below.\n",
    "df_unseen = pd.read_csv('http://mlg.ucd.ie/modules/COMP41680/diabetes-unseen.csv')\n",
    "new_predictions = model.predict(df_unseen)\n",
    "print(new_predictions)\n"
   ]
  }
 ],
 "metadata": {
  "kernelspec": {
   "display_name": "Python 3 (ipykernel)",
   "language": "python",
   "name": "python3"
  },
  "language_info": {
   "codemirror_mode": {
    "name": "ipython",
    "version": 3
   },
   "file_extension": ".py",
   "mimetype": "text/x-python",
   "name": "python",
   "nbconvert_exporter": "python",
   "pygments_lexer": "ipython3",
   "version": "3.9.12"
  }
 },
 "nbformat": 4,
 "nbformat_minor": 1
}
