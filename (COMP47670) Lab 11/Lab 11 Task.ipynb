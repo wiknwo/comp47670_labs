{
 "cells": [
  {
   "cell_type": "markdown",
   "metadata": {},
   "source": [
    "## Lab 11 Tasks"
   ]
  },
  {
   "cell_type": "markdown",
   "metadata": {},
   "source": [
    "Step 1. \n",
    "Load the stock price CSV files for both Apple and Microsoft into separate Pandas DataFrames."
   ]
  },
  {
   "cell_type": "code",
   "execution_count": 5,
   "metadata": {},
   "outputs": [
    {
     "name": "stdout",
     "output_type": "stream",
     "text": [
      "APPLE Stock Price Data\n",
      "          date   close      volume    open    high     low\n",
      "0  2017/04/24  143.64  17117710.0  143.50  143.95  143.18\n",
      "1  2017/04/21  142.27  17290900.0  142.44  142.68  141.85\n",
      "2  2017/04/20  142.44  23294040.0  141.22  142.92  141.16\n",
      "3  2017/04/19  140.68  17302160.0  141.88  142.00  140.45\n",
      "4  2017/04/18  141.20  14676420.0  141.41  142.04  141.11 \n",
      "MICROSOFT Stock Price Data\n",
      "          date  close      volume   open   high    low\n",
      "0  2017/04/24  67.53  29721350.0  67.48  67.66  67.10\n",
      "1  2017/04/21  66.40  32507090.0  65.67  66.70  65.45\n",
      "2  2017/04/20  65.50  22298340.0  65.46  65.75  65.14\n",
      "3  2017/04/19  65.04  26983430.0  65.65  65.75  64.89\n",
      "4  2017/04/18  65.39  15145300.0  65.33  65.71  65.16\n"
     ]
    }
   ],
   "source": [
    "import pandas as pd\n",
    "\n",
    "apple_data_df = pd.read_csv('stock-apple.csv')\n",
    "microsoft_data_df = pd.read_csv('stock-microsoft.csv')\n",
    "print('APPLE Stock Price Data\\n', apple_data_df.head(), '\\nMICROSOFT Stock Price Data\\n', microsoft_data_df.head())"
   ]
  },
  {
   "cell_type": "markdown",
   "metadata": {},
   "source": [
    "Step 2. For each of the DataFrames, extract only the **close** stock prices for the year 2016. This should give you two new Pandas Series objects."
   ]
  },
  {
   "cell_type": "code",
   "execution_count": 32,
   "metadata": {},
   "outputs": [
    {
     "name": "stdout",
     "output_type": "stream",
     "text": [
      "<class 'pandas.core.series.Series'>\n",
      "<class 'pandas.core.series.Series'>\n",
      "APPLE Close Stock Price Data\n",
      " date\n",
      "2016/12/30    115.82\n",
      "2016/12/29    116.73\n",
      "2016/12/28    116.76\n",
      "2016/12/27    117.26\n",
      "2016/12/23    116.52\n",
      "Name: close, dtype: float64 \n",
      "MICROSOFT Close Stock Price Data\n",
      " date\n",
      "2016/12/30    62.14\n",
      "2016/12/29    62.90\n",
      "2016/12/28    62.99\n",
      "2016/12/27    63.28\n",
      "2016/12/23    63.24\n",
      "Name: close, dtype: float64\n"
     ]
    }
   ],
   "source": [
    "# https://stackoverflow.com/questions/11285613/selecting-multiple-columns-in-a-pandas-dataframe\n",
    "# https://stackoverflow.com/questions/71801877/how-to-filter-column-based-on-another-column-date-range\n",
    "# https://stackoverflow.com/questions/42196337/dataframe-set-index-not-setting\n",
    "# https://stackoverflow.com/questions/33246771/convert-pandas-data-frame-to-series\n",
    "apple_close_stock_prices_2016 = apple_data_df[(apple_data_df['date'] >= '2016/01/01') & (apple_data_df['date'] <= '2016/12/31')][['date', 'close']]\n",
    "apple_close_stock_prices_2016.set_index('date', inplace=True)\n",
    "apple_close_stock_prices_2016 = apple_close_stock_prices_2016.iloc[:,0]\n",
    "print(type(apple_close_stock_prices_2016))\n",
    "microsoft_close_stock_prices_2016 = microsoft_data_df[(microsoft_data_df['date'] >= '2016/01/01') & (microsoft_data_df['date'] <= '2016/12/31')][['date', 'close']]\n",
    "microsoft_close_stock_prices_2016.set_index('date', inplace=True)\n",
    "microsoft_close_stock_prices_2016 = microsoft_close_stock_prices_2016.iloc[:,0]\n",
    "print(type(microsoft_close_stock_prices_2016))\n",
    "print('APPLE Close Stock Price Data\\n', apple_close_stock_prices_2016.head(), '\\nMICROSOFT Close Stock Price Data\\n', microsoft_close_stock_prices_2016.head())"
   ]
  },
  {
   "cell_type": "markdown",
   "metadata": {},
   "source": [
    "Step 3. Create a new time series DataFrame with two columns, one for the Apple 2016 closing prices and one for the Microsoft 2016 closing prices."
   ]
  },
  {
   "cell_type": "code",
   "execution_count": 34,
   "metadata": {},
   "outputs": [
    {
     "name": "stdout",
     "output_type": "stream",
     "text": [
      "             APPLE  MICROSOFT\n",
      "date                         \n",
      "2016/12/30  115.82      62.14\n",
      "2016/12/29  116.73      62.90\n",
      "2016/12/28  116.76      62.99\n",
      "2016/12/27  117.26      63.28\n",
      "2016/12/23  116.52      63.24\n"
     ]
    }
   ],
   "source": [
    "# https://stackoverflow.com/questions/45001434/how-to-name-a-pandas-series\n",
    "apple_close_stock_prices_2016.name = 'APPLE'\n",
    "microsoft_close_stock_prices_2016.name = 'MICROSOFT'\n",
    "ts_closingprices_2016 = pd.concat([apple_close_stock_prices_2016, microsoft_close_stock_prices_2016], axis=1)\n",
    "print(ts_closingprices_2016.head())"
   ]
  },
  {
   "cell_type": "markdown",
   "metadata": {},
   "source": [
    "Step 4: Plot the 2016 closing prices for Apple and Microsoft, using a 7-day rolling mean."
   ]
  },
  {
   "cell_type": "code",
   "execution_count": 39,
   "metadata": {},
   "outputs": [
    {
     "data": {
      "text/plain": [
       "<AxesSubplot:xlabel='date', ylabel='Closing Stock Price'>"
      ]
     },
     "execution_count": 39,
     "metadata": {},
     "output_type": "execute_result"
    },
    {
     "data": {
      "image/png": "[encoded data removed]",
      "text/plain": [
       "<Figure size 864x360 with 1 Axes>"
      ]
     },
     "metadata": {
      "needs_background": "light"
     },
     "output_type": "display_data"
    }
   ],
   "source": [
    "# https://stackoverflow.com/questions/46011940/how-to-plot-two-pandas-time-series-on-same-plot-with-legends-and-secondary-y-axi\n",
    "import matplotlib.pyplot as plt\n",
    "\n",
    "applerm = ts_closingprices_2016['APPLE'].rolling(7).mean()\n",
    "microsoftrm = ts_closingprices_2016['MICROSOFT'].rolling(7).mean()\n",
    "plt.figure(figsize=(12,5))\n",
    "plt.xlabel('Date')\n",
    "plt.ylabel('Closing Stock Price')\n",
    "applerm.plot(color='blue', grid=True, label='APPLE')\n",
    "microsoftrm.plot(color='red', grid=True, label='MICROSOFT')\n",
    "\n"
   ]
  },
  {
   "cell_type": "markdown",
   "metadata": {},
   "source": [
    "Step 5. Resample the new DataFrame to monthly time windows, and plot the new monthly time series."
   ]
  },
  {
   "cell_type": "code",
   "execution_count": 44,
   "metadata": {},
   "outputs": [
    {
     "name": "stdout",
     "output_type": "stream",
     "text": [
      "             APPLE  MICROSOFT\n",
      "date                         \n",
      "2016-12-30  115.82      62.14\n",
      "2016-12-29  116.73      62.90\n",
      "2016-12-28  116.76      62.99\n",
      "2016-12-27  117.26      63.28\n",
      "2016-12-23  116.52      63.24\n",
      "                 APPLE  MICROSOFT\n",
      "date                             \n",
      "2016-01-31   98.428947  52.403421\n",
      "2016-02-29   95.746500  51.380500\n",
      "2016-03-31  104.267273  53.384091\n",
      "2016-04-30  106.739048  54.054286\n",
      "2016-05-31   94.974762  50.969524\n"
     ]
    },
    {
     "data": {
      "text/plain": [
       "<AxesSubplot:xlabel='date', ylabel='Closing Stock Price'>"
      ]
     },
     "execution_count": 44,
     "metadata": {},
     "output_type": "execute_result"
    },
    {
     "data": {
      "image/png": "[encoded data removed]",
      "text/plain": [
       "<Figure size 864x360 with 1 Axes>"
      ]
     },
     "metadata": {
      "needs_background": "light"
     },
     "output_type": "display_data"
    }
   ],
   "source": [
    "# https://stackoverflow.com/questions/40815238/python-pandas-convert-index-to-datetime\n",
    "# Convert date index to datetimeindex\n",
    "ts_closingprices_2016.index = pd.to_datetime(ts_closingprices_2016.index)\n",
    "print(ts_closingprices_2016.head())\n",
    "# Resample from daily to monthly frequency\n",
    "ts_closingprices_2016_monthly = ts_closingprices_2016.resample('M').mean()\n",
    "print(ts_closingprices_2016_monthly.head())\n",
    "# Plot the figure\n",
    "applerm_monthly = ts_closingprices_2016_monthly['APPLE'].rolling(7).mean()\n",
    "microsoftrm_monthly = ts_closingprices_2016_monthly['MICROSOFT'].rolling(7).mean()\n",
    "plt.figure(figsize=(12,5))\n",
    "plt.xlabel('Date')\n",
    "plt.ylabel('Closing Stock Price')\n",
    "applerm_monthly.plot(color='blue', grid=True, label='APPLE')\n",
    "microsoftrm_monthly.plot(color='red', grid=True, label='MICROSOFT')"
   ]
  }
 ],
 "metadata": {
  "kernelspec": {
   "display_name": "Python 3 (ipykernel)",
   "language": "python",
   "name": "python3"
  },
  "language_info": {
   "codemirror_mode": {
    "name": "ipython",
    "version": 3
   },
   "file_extension": ".py",
   "mimetype": "text/x-python",
   "name": "python",
   "nbconvert_exporter": "python",
   "pygments_lexer": "ipython3",
   "version": "3.9.12"
  }
 },
 "nbformat": 4,
 "nbformat_minor": 1
}
